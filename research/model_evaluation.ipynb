{
 "cells": [
  {
   "cell_type": "code",
   "execution_count": 3,
   "id": "e2793c39",
   "metadata": {},
   "outputs": [],
   "source": [
    "import os"
   ]
  },
  {
   "cell_type": "code",
   "execution_count": 4,
   "id": "2eabdd5b",
   "metadata": {},
   "outputs": [],
   "source": [
    "os.chdir(\"../\")"
   ]
  },
  {
   "cell_type": "code",
   "execution_count": 5,
   "id": "b6afbb80",
   "metadata": {},
   "outputs": [
    {
     "data": {
      "text/plain": [
       "'e:\\\\Wine-Quality-Prediction'"
      ]
     },
     "execution_count": 5,
     "metadata": {},
     "output_type": "execute_result"
    }
   ],
   "source": [
    "%pwd"
   ]
  },
  {
   "cell_type": "code",
   "execution_count": 6,
   "id": "aef4aa79",
   "metadata": {},
   "outputs": [],
   "source": [
    "from dataclasses import dataclass\n",
    "from pathlib import Path\n",
    "\n",
    "@dataclass(frozen=True)\n",
    "class ModelEvaluationConfig:\n",
    "    root_dir: Path\n",
    "    test_data_path: Path\n",
    "    model_path: Path\n",
    "    all_params: dict\n",
    "    metric_file_path: Path\n",
    "    target_column: str"
   ]
  },
  {
   "cell_type": "code",
   "execution_count": 7,
   "id": "a77f2061",
   "metadata": {},
   "outputs": [],
   "source": [
    "from mlProject.constants import *\n",
    "from mlProject.utils.common import read_yaml, create_directories,save_json"
   ]
  },
  {
   "cell_type": "code",
   "execution_count": 8,
   "id": "42c40719",
   "metadata": {},
   "outputs": [],
   "source": [
    "class ConfigurationManager:\n",
    "    def __init__(\n",
    "            self,\n",
    "            config_filepath=CONFIG_FILE_PATH,\n",
    "            params_filepath=PARAMS_FILE_PATH,\n",
    "            schema_filepath=SCHEMA_FILE_PATH):\n",
    "        self.config = read_yaml(config_filepath)\n",
    "        self.params = read_yaml(params_filepath)\n",
    "        self.schema= read_yaml(schema_filepath)\n",
    "        create_directories([self.config.artifacts_root])\n",
    "    \n",
    "    def get_model_evaluation_config(self)-> ModelEvaluationConfig:\n",
    "        config = self.config.model_evaluation\n",
    "        params = self.params.ElasticNet\n",
    "        schema= self.schema.TARGET_COLUMN\n",
    "        create_directories([config.root_dir])\n",
    "        model_evaluation_config = ModelEvaluationConfig(\n",
    "            root_dir=config.root_dir,\n",
    "            test_data_path=config.test_data_path,\n",
    "            model_path=config.model_path,\n",
    "            all_params=params,\n",
    "            metric_file_path=config.metric_file_path,\n",
    "            target_column=schema.name\n",
    "        )\n",
    "        return model_evaluation_config"
   ]
  },
  {
   "cell_type": "code",
   "execution_count": 9,
   "id": "8a98053f",
   "metadata": {},
   "outputs": [],
   "source": [
    "import os\n",
    "import pandas as pd\n",
    "from sklearn.metrics import mean_squared_error, mean_absolute_error, r2_score\n",
    "from urllib.parse import urlparse\n",
    "import numpy as np\n",
    "import joblib"
   ]
  },
  {
   "cell_type": "code",
   "execution_count": 12,
   "id": "3bf7afb5",
   "metadata": {},
   "outputs": [],
   "source": [
    "class ModelEvaluation:\n",
    "    def __init__(self,config:ModelEvaluationConfig):\n",
    "        self.config = config\n",
    "    \n",
    "    def eval_metrics(self,actual,pred):\n",
    "        rmse=np.sqrt(mean_squared_error(actual,pred))\n",
    "        mae=mean_absolute_error(actual,pred)\n",
    "        r2=r2_score(actual,pred)\n",
    "        return rmse,mae,r2\n",
    "    \n",
    "    def save_results(self):\n",
    "        test_data=pd.read_csv(self.config.test_data_path)\n",
    "        model=joblib.load(self.config.model_path)\n",
    "        test_x=test_data.drop(columns=[self.config.target_column],axis=1)\n",
    "        test_y=test_data[[self.config.target_column]]\n",
    "        predicted_qualities=model.predict(test_x)\n",
    "\n",
    "        (rmse,mae,r2)=self.eval_metrics(test_y,predicted_qualities)\n",
    "\n",
    "        scores={\"rmse\":rmse,\"mae\":mae,\"r2\":r2}\n",
    "\n",
    "        save_json(path=Path(self.config.metric_file_name),data=scores)"
   ]
  },
  {
   "cell_type": "code",
   "execution_count": 11,
   "id": "d00a2d07",
   "metadata": {},
   "outputs": [
    {
     "name": "stdout",
     "output_type": "stream",
     "text": [
      "[2025-10-10 11:22:27,381]:INFO:common:yaml file:e:\\wine-quality-prediction\\config\\config.yaml loaded successfully]\n",
      "[2025-10-10 11:22:27,384]:INFO:common:yaml file:e:\\wine-quality-prediction\\params.yaml loaded successfully]\n",
      "[2025-10-10 11:22:27,388]:INFO:common:yaml file:e:\\wine-quality-prediction\\schema.yaml loaded successfully]\n",
      "[2025-10-10 11:22:27,384]:INFO:common:yaml file:e:\\wine-quality-prediction\\params.yaml loaded successfully]\n",
      "[2025-10-10 11:22:27,388]:INFO:common:yaml file:e:\\wine-quality-prediction\\schema.yaml loaded successfully]\n",
      "[2025-10-10 11:22:27,392]:INFO:common:created directory at:artifacts]\n",
      "[2025-10-10 11:22:27,395]:INFO:common:created directory at:artifacts/model_evaluation]\n",
      "[2025-10-10 11:22:27,392]:INFO:common:created directory at:artifacts]\n",
      "[2025-10-10 11:22:27,395]:INFO:common:created directory at:artifacts/model_evaluation]\n",
      "[2025-10-10 11:22:27,508]:INFO:common:json file saved at:artifacts\\model_evaluation\\metrics.json]\n",
      "[2025-10-10 11:22:27,508]:INFO:common:json file saved at:artifacts\\model_evaluation\\metrics.json]\n"
     ]
    }
   ],
   "source": [
    "try:\n",
    "    config = ConfigurationManager()\n",
    "    model_evaluation_config = config.get_model_evaluation_config()\n",
    "    model_evaluation_config = ModelEvaluation(config=model_evaluation_config)\n",
    "    model_evaluation_config.save_results()\n",
    "except Exception as e:\n",
    "    raise e"
   ]
  },
  {
   "cell_type": "code",
   "execution_count": null,
   "id": "f79bd5a8",
   "metadata": {},
   "outputs": [],
   "source": []
  }
 ],
 "metadata": {
  "kernelspec": {
   "display_name": "venv",
   "language": "python",
   "name": "python3"
  },
  "language_info": {
   "codemirror_mode": {
    "name": "ipython",
    "version": 3
   },
   "file_extension": ".py",
   "mimetype": "text/x-python",
   "name": "python",
   "nbconvert_exporter": "python",
   "pygments_lexer": "ipython3",
   "version": "3.10.11"
  }
 },
 "nbformat": 4,
 "nbformat_minor": 5
}
