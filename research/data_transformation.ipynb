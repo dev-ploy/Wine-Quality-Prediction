{
 "cells": [
  {
   "cell_type": "code",
   "execution_count": 59,
   "id": "a1d79540",
   "metadata": {},
   "outputs": [
    {
     "name": "stdout",
     "output_type": "stream",
     "text": [
      "Current directory: e:\\Wine-Quality-Prediction\n"
     ]
    }
   ],
   "source": [
    "# Set absolute path to project root\n",
    "import os\n",
    "os.chdir(r\"e:\\Wine-Quality-Prediction\")\n",
    "print(f\"Current directory: {os.getcwd()}\")"
   ]
  },
  {
   "cell_type": "code",
   "execution_count": 60,
   "id": "bcbbff2f",
   "metadata": {},
   "outputs": [],
   "source": [
    "import os"
   ]
  },
  {
   "cell_type": "code",
   "execution_count": 61,
   "id": "598cd37b",
   "metadata": {},
   "outputs": [
    {
     "data": {
      "text/plain": [
       "'e:\\\\Wine-Quality-Prediction'"
      ]
     },
     "execution_count": 61,
     "metadata": {},
     "output_type": "execute_result"
    }
   ],
   "source": [
    "%pwd"
   ]
  },
  {
   "cell_type": "code",
   "execution_count": 52,
   "id": "c4304480",
   "metadata": {},
   "outputs": [],
   "source": [
    "from dataclasses import dataclass\n",
    "from pathlib import Path\n",
    "@dataclass(frozen=True)\n",
    "\n",
    "class DataTransformationConfig:\n",
    "    root_dir:Path\n",
    "    data_path:Path"
   ]
  },
  {
   "cell_type": "code",
   "execution_count": 53,
   "id": "38a7dbe2",
   "metadata": {},
   "outputs": [],
   "source": [
    "from mlProject.constants import *\n",
    "from mlProject.utils.common import read_yaml, create_directories"
   ]
  },
  {
   "cell_type": "code",
   "execution_count": 54,
   "id": "7859bf3d",
   "metadata": {},
   "outputs": [],
   "source": [
    "class ConfigurationManager:\n",
    "    def __init__(\n",
    "            self,\n",
    "            config_filepath=CONFIG_FILE_PATH,\n",
    "            params_filepath=PARAMS_FILE_PATH,\n",
    "            schema_filepath=SCHEMA_FILE_PATH\n",
    "    ):\n",
    "        self.config = read_yaml(config_filepath)\n",
    "        self.params = read_yaml(params_filepath)\n",
    "        self.schema = read_yaml(schema_filepath)\n",
    "        create_directories([self.config.artifacts_root])\n",
    "\n",
    "\n",
    "    def get_data_transformation_config(self) -> DataTransformationConfig:\n",
    "            config=self.config.data_transformation\n",
    "\n",
    "            create_directories([config.root_dir])\n",
    "\n",
    "            data_transformation_config=DataTransformationConfig(\n",
    "                root_dir=config.root_dir,\n",
    "                data_path=config.data_path\n",
    "            )\n",
    "\n",
    "            return data_transformation_config\n"
   ]
  },
  {
   "cell_type": "code",
   "execution_count": 55,
   "id": "7b86d8de",
   "metadata": {},
   "outputs": [],
   "source": [
    "import os\n",
    "from mlProject import logger\n",
    "from sklearn.model_selection import train_test_split\n",
    "import pandas as pd"
   ]
  },
  {
   "cell_type": "code",
   "execution_count": 56,
   "id": "1e1ff6a9",
   "metadata": {},
   "outputs": [],
   "source": [
    "class DataTransformation:\n",
    "\n",
    "    def __init__(self,config:DataTransformationConfig):\n",
    "        self.config=config\n",
    "\n",
    "\n",
    "    def train_test_spliting(self):\n",
    "            data=pd.read_csv(self.config.data_path,sep=\";\")\n",
    "\n",
    "            train,test=train_test_split(data)\n",
    "\n",
    "            train.to_csv(os.path.join(self.config.root_dir,\"train.csv\"),index=False)\n",
    "            test.to_csv(os.path.join(self.config.root_dir,\"test.csv\"),index=False)\n",
    "\n",
    "            logger.info(\"splited data into train and test sets\")\n",
    "            logger.info(train.shape)\n",
    "            logger.info(test.shape)\n",
    "            print(train.shape)\n",
    "            print(test.shape)"
   ]
  },
  {
   "cell_type": "code",
   "execution_count": 62,
   "id": "927c83a1",
   "metadata": {},
   "outputs": [
    {
     "name": "stdout",
     "output_type": "stream",
     "text": [
      "Current working directory: e:\\Wine-Quality-Prediction\n",
      "Looking for file: artifacts\\data_ingestion\\winequality-red.csv\n",
      "Absolute path: e:\\Wine-Quality-Prediction\\artifacts\\data_ingestion\\winequality-red.csv\n",
      "File exists: True\n",
      "\n",
      "✓ File found! Ready to proceed.\n"
     ]
    }
   ],
   "source": [
    "# Debug: Check if file exists before running\n",
    "import os\n",
    "from pathlib import Path\n",
    "\n",
    "print(f\"Current working directory: {os.getcwd()}\")\n",
    "data_file = Path(\"artifacts/data_ingestion/winequality-red.csv\")\n",
    "print(f\"Looking for file: {data_file}\")\n",
    "print(f\"Absolute path: {data_file.absolute()}\")\n",
    "print(f\"File exists: {data_file.exists()}\")\n",
    "\n",
    "if not data_file.exists():\n",
    "    print(\"\\nFile NOT found! Make sure to:\")\n",
    "    print(\"1. Run cells 2 and 3 to set the correct directory\")\n",
    "    print(\"2. Or uncomment and run cell 1 with absolute path\")\n",
    "else:\n",
    "    print(\"\\n✓ File found! Ready to proceed.\")"
   ]
  },
  {
   "cell_type": "code",
   "execution_count": 63,
   "id": "d3685e61",
   "metadata": {},
   "outputs": [
    {
     "name": "stdout",
     "output_type": "stream",
     "text": [
      "[2025-10-10 00:18:10,025]:INFO:common:yaml file:e:\\wine-quality-prediction\\config\\config.yaml loaded successfully]\n",
      "[2025-10-10 00:18:10,027]:INFO:common:yaml file:e:\\wine-quality-prediction\\params.yaml loaded successfully]\n",
      "[2025-10-10 00:18:10,027]:INFO:common:yaml file:e:\\wine-quality-prediction\\params.yaml loaded successfully]\n",
      "[2025-10-10 00:18:10,083]:INFO:common:yaml file:e:\\wine-quality-prediction\\schema.yaml loaded successfully]\n",
      "[2025-10-10 00:18:10,123]:INFO:common:created directory at:artifacts]\n",
      "[2025-10-10 00:18:10,083]:INFO:common:yaml file:e:\\wine-quality-prediction\\schema.yaml loaded successfully]\n",
      "[2025-10-10 00:18:10,123]:INFO:common:created directory at:artifacts]\n",
      "[2025-10-10 00:18:10,147]:INFO:common:created directory at:artifacts/data_transformation]\n",
      "[2025-10-10 00:18:10,147]:INFO:common:created directory at:artifacts/data_transformation]\n",
      "[2025-10-10 00:18:10,441]:INFO:2345610427:splited data into train and test sets]\n",
      "[2025-10-10 00:18:10,443]:INFO:2345610427:(1199, 1)]\n",
      "[2025-10-10 00:18:10,444]:INFO:2345610427:(400, 1)]\n",
      "(1199, 1)\n",
      "(400, 1)\n",
      "[2025-10-10 00:18:10,441]:INFO:2345610427:splited data into train and test sets]\n",
      "[2025-10-10 00:18:10,443]:INFO:2345610427:(1199, 1)]\n",
      "[2025-10-10 00:18:10,444]:INFO:2345610427:(400, 1)]\n",
      "(1199, 1)\n",
      "(400, 1)\n"
     ]
    }
   ],
   "source": [
    "try:\n",
    "    config=ConfigurationManager()\n",
    "    data_transformation_config=config.get_data_transformation_config()\n",
    "    data_transformation=DataTransformation(config=data_transformation_config)\n",
    "    data_transformation.train_test_spliting()\n",
    "except Exception as e:\n",
    "    raise e"
   ]
  },
  {
   "cell_type": "code",
   "execution_count": null,
   "id": "7b1ee61a",
   "metadata": {},
   "outputs": [],
   "source": []
  }
 ],
 "metadata": {
  "kernelspec": {
   "display_name": "venv",
   "language": "python",
   "name": "python3"
  },
  "language_info": {
   "codemirror_mode": {
    "name": "ipython",
    "version": 3
   },
   "file_extension": ".py",
   "mimetype": "text/x-python",
   "name": "python",
   "nbconvert_exporter": "python",
   "pygments_lexer": "ipython3",
   "version": "3.10.11"
  }
 },
 "nbformat": 4,
 "nbformat_minor": 5
}
