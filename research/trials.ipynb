{
 "cells": [
  {
   "cell_type": "code",
   "execution_count": 2,
   "id": "b0c88f22",
   "metadata": {},
   "outputs": [
    {
     "name": "stdout",
     "output_type": "stream",
     "text": [
      "{'name': 'milan', 'email': 'milanvchristy420@gmail.com'}\n",
      "<class 'dict'>\n"
     ]
    }
   ],
   "source": [
    "import yaml\n",
    "yaml_file_path=\"test.yaml\"\n",
    "\n",
    "with open(yaml_file_path) as file:\n",
    "    data=yaml.safe_load(file)\n",
    "\n",
    "print(data)\n",
    "print(type(data))"
   ]
  },
  {
   "cell_type": "code",
   "execution_count": 3,
   "id": "cca57dd8",
   "metadata": {},
   "outputs": [
    {
     "data": {
      "text/plain": [
       "'milan'"
      ]
     },
     "execution_count": 3,
     "metadata": {},
     "output_type": "execute_result"
    }
   ],
   "source": [
    "data['name']"
   ]
  },
  {
   "cell_type": "code",
   "execution_count": 4,
   "id": "fcdc5af0",
   "metadata": {},
   "outputs": [
    {
     "data": {
      "text/plain": [
       "'milanvchristy420@gmail.com'"
      ]
     },
     "execution_count": 4,
     "metadata": {},
     "output_type": "execute_result"
    }
   ],
   "source": [
    "data['email']"
   ]
  },
  {
   "cell_type": "code",
   "execution_count": 5,
   "id": "07863c83",
   "metadata": {},
   "outputs": [],
   "source": [
    "#ConfigBox"
   ]
  },
  {
   "cell_type": "code",
   "execution_count": 7,
   "id": "3fa51e61",
   "metadata": {},
   "outputs": [
    {
     "name": "stdout",
     "output_type": "stream",
     "text": [
      "{'name': 'milan', 'email': 'milanvchristy420@gmail.com'}\n"
     ]
    }
   ],
   "source": [
    "from box import ConfigBox\n",
    "\n",
    "d=ConfigBox(data)\n",
    "print(d)"
   ]
  },
  {
   "cell_type": "code",
   "execution_count": 8,
   "id": "c21a6024",
   "metadata": {},
   "outputs": [
    {
     "data": {
      "text/plain": [
       "'milan'"
      ]
     },
     "execution_count": 8,
     "metadata": {},
     "output_type": "execute_result"
    }
   ],
   "source": [
    "d.name"
   ]
  },
  {
   "cell_type": "code",
   "execution_count": 9,
   "id": "fc425bb2",
   "metadata": {},
   "outputs": [
    {
     "data": {
      "text/plain": [
       "'milanvchristy420@gmail.com'"
      ]
     },
     "execution_count": 9,
     "metadata": {},
     "output_type": "execute_result"
    }
   ],
   "source": [
    "d.email"
   ]
  },
  {
   "cell_type": "code",
   "execution_count": 10,
   "id": "3347442a",
   "metadata": {},
   "outputs": [],
   "source": [
    "#ensure_annotations\n"
   ]
  },
  {
   "cell_type": "code",
   "execution_count": 11,
   "id": "8c0628b6",
   "metadata": {},
   "outputs": [],
   "source": [
    "def get_product(x:int,y:int):\n",
    "    return x*y"
   ]
  },
  {
   "cell_type": "code",
   "execution_count": 12,
   "id": "bc9b653d",
   "metadata": {},
   "outputs": [
    {
     "data": {
      "text/plain": [
       "8"
      ]
     },
     "execution_count": 12,
     "metadata": {},
     "output_type": "execute_result"
    }
   ],
   "source": [
    "get_product(x=2,y=4)"
   ]
  },
  {
   "cell_type": "code",
   "execution_count": 13,
   "id": "589cb321",
   "metadata": {},
   "outputs": [
    {
     "data": {
      "text/plain": [
       "'44'"
      ]
     },
     "execution_count": 13,
     "metadata": {},
     "output_type": "execute_result"
    }
   ],
   "source": [
    "get_product(x=2,y=\"4\")"
   ]
  },
  {
   "cell_type": "code",
   "execution_count": 14,
   "id": "0d0f6f64",
   "metadata": {},
   "outputs": [],
   "source": [
    "from ensure import ensure_annotations"
   ]
  },
  {
   "cell_type": "code",
   "execution_count": 15,
   "id": "064b0a17",
   "metadata": {},
   "outputs": [],
   "source": [
    "@ensure_annotations\n",
    "def get_product(x:int,y:int):\n",
    "    return x*y"
   ]
  },
  {
   "cell_type": "code",
   "execution_count": 17,
   "id": "1f8f0df9",
   "metadata": {},
   "outputs": [
    {
     "data": {
      "text/plain": [
       "8"
      ]
     },
     "execution_count": 17,
     "metadata": {},
     "output_type": "execute_result"
    }
   ],
   "source": [
    "get_product(x=2,y=4)"
   ]
  },
  {
   "cell_type": "code",
   "execution_count": null,
   "id": "63f765a6",
   "metadata": {},
   "outputs": [],
   "source": []
  },
  {
   "cell_type": "code",
   "execution_count": null,
   "id": "7aed89c3",
   "metadata": {},
   "outputs": [],
   "source": []
  }
 ],
 "metadata": {
  "kernelspec": {
   "display_name": "venv",
   "language": "python",
   "name": "python3"
  },
  "language_info": {
   "codemirror_mode": {
    "name": "ipython",
    "version": 3
   },
   "file_extension": ".py",
   "mimetype": "text/x-python",
   "name": "python",
   "nbconvert_exporter": "python",
   "pygments_lexer": "ipython3",
   "version": "3.10.11"
  }
 },
 "nbformat": 4,
 "nbformat_minor": 5
}
